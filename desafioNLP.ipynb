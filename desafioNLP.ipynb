{
 "cells": [
  {
   "cell_type": "code",
   "execution_count": 10,
   "metadata": {},
   "outputs": [],
   "source": [
    "import numpy as np\n",
    "import pandas as pd\n",
    "import matplotlib.pyplot as plt\n",
    "import seaborn as sns"
   ]
  },
  {
   "cell_type": "markdown",
   "metadata": {},
   "source": [
    "Bibliotecas utilizadas"
   ]
  },
  {
   "cell_type": "code",
   "execution_count": 2,
   "metadata": {},
   "outputs": [],
   "source": [
    "df = pd.read_json(\"03092020_2kcomments.json\")"
   ]
  },
  {
   "cell_type": "code",
   "execution_count": 3,
   "metadata": {},
   "outputs": [
    {
     "data": {
      "text/html": [
       "<div>\n",
       "<style scoped>\n",
       "    .dataframe tbody tr th:only-of-type {\n",
       "        vertical-align: middle;\n",
       "    }\n",
       "\n",
       "    .dataframe tbody tr th {\n",
       "        vertical-align: top;\n",
       "    }\n",
       "\n",
       "    .dataframe thead th {\n",
       "        text-align: right;\n",
       "    }\n",
       "</style>\n",
       "<table border=\"1\" class=\"dataframe\">\n",
       "  <thead>\n",
       "    <tr style=\"text-align: right;\">\n",
       "      <th></th>\n",
       "      <th>0</th>\n",
       "    </tr>\n",
       "  </thead>\n",
       "  <tbody>\n",
       "    <tr>\n",
       "      <th>0</th>\n",
       "      <td>Satisfação, não deixam nada a desejar...</td>\n",
       "    </tr>\n",
       "    <tr>\n",
       "      <th>1</th>\n",
       "      <td>Não tive dificuldade de me comunicar com outro...</td>\n",
       "    </tr>\n",
       "    <tr>\n",
       "      <th>2</th>\n",
       "      <td>No momento, não estou trabalhando em casa, e s...</td>\n",
       "    </tr>\n",
       "    <tr>\n",
       "      <th>3</th>\n",
       "      <td>No momento não.</td>\n",
       "    </tr>\n",
       "    <tr>\n",
       "      <th>4</th>\n",
       "      <td>Qualidade de vinda e rendimento no trabalho</td>\n",
       "    </tr>\n",
       "    <tr>\n",
       "      <th>...</th>\n",
       "      <td>...</td>\n",
       "    </tr>\n",
       "    <tr>\n",
       "      <th>1995</th>\n",
       "      <td>Seria bom aos demais que também trabalhassem c...</td>\n",
       "    </tr>\n",
       "    <tr>\n",
       "      <th>1996</th>\n",
       "      <td>Até aumentou.</td>\n",
       "    </tr>\n",
       "    <tr>\n",
       "      <th>1997</th>\n",
       "      <td>Economia de tempo com transporte, convivio com...</td>\n",
       "    </tr>\n",
       "    <tr>\n",
       "      <th>1998</th>\n",
       "      <td>O gestor está sempre disponível, mas também nã...</td>\n",
       "    </tr>\n",
       "    <tr>\n",
       "      <th>1999</th>\n",
       "      <td>Tem sua vantagens, mas precisaria investir em ...</td>\n",
       "    </tr>\n",
       "  </tbody>\n",
       "</table>\n",
       "<p>2000 rows × 1 columns</p>\n",
       "</div>"
      ],
      "text/plain": [
       "                                                      0\n",
       "0              Satisfação, não deixam nada a desejar...\n",
       "1     Não tive dificuldade de me comunicar com outro...\n",
       "2     No momento, não estou trabalhando em casa, e s...\n",
       "3                                       No momento não.\n",
       "4           Qualidade de vinda e rendimento no trabalho\n",
       "...                                                 ...\n",
       "1995  Seria bom aos demais que também trabalhassem c...\n",
       "1996                                      Até aumentou.\n",
       "1997  Economia de tempo com transporte, convivio com...\n",
       "1998  O gestor está sempre disponível, mas também nã...\n",
       "1999  Tem sua vantagens, mas precisaria investir em ...\n",
       "\n",
       "[2000 rows x 1 columns]"
      ]
     },
     "execution_count": 3,
     "metadata": {},
     "output_type": "execute_result"
    }
   ],
   "source": [
    "df"
   ]
  },
  {
   "cell_type": "code",
   "execution_count": 4,
   "metadata": {},
   "outputs": [],
   "source": [
    "#Criar nova coluna contendo instâncias separadas em um array e sem pontuação\n",
    "retiraPontos = lambda x: x.replace(\",\",\"\").replace(\".\",\"\").replace(\")\",\"\").replace(\"(\",\"\").split()\n",
    "df[\"array\"]=df.applymap(retiraPontos)\n",
    "df.head()\n",
    "\n",
    "#criar um dataframe com todas as palavras, vou usar o intertools\n",
    "import itertools\n",
    "\n",
    "listOfWord = list(itertools.chain.from_iterable(list(df[\"array\"].values)))\n",
    "\n",
    "#criar dataframe com todas as palavras"
   ]
  },
  {
   "cell_type": "code",
   "execution_count": 18,
   "metadata": {},
   "outputs": [],
   "source": [
    "wordsDF = pd.DataFrame(listOfWord)\n",
    "wordsDF.head()\n",
    "pd.DataFrame(wordsDF[0].value_counts())\n",
    "#filtrar preposição, artigo e pronome\n",
    "def retirarString(x,n=1):\n",
    "    if(len(x)<=n):\n",
    "        return np.nan\n",
    "    else:\n",
    "        return x\n",
    "\n",
    "def menosUm(x):\n",
    "    if(x<=4):\n",
    "        return np.nan\n",
    "    else:\n",
    "        return x\n",
    "    \n",
    "retirarString(\"i\")\n",
    "CU=wordsDF.applymap(lambda x: retirarString(x,5))[0].value_counts().apply(lambda x: menosUm(x)).dropna()\n"
   ]
  },
  {
   "cell_type": "code",
   "execution_count": 19,
   "metadata": {},
   "outputs": [
    {
     "data": {
      "text/plain": [
       "<matplotlib.axes._subplots.AxesSubplot at 0x7f1662cdf210>"
      ]
     },
     "execution_count": 19,
     "metadata": {},
     "output_type": "execute_result"
    },
    {
     "data": {
      "image/png": "[encoded data removed]",
      "text/plain": [
       "<Figure size 432x288 with 1 Axes>"
      ]
     },
     "metadata": {
      "needs_background": "light"
     },
     "output_type": "display_data"
    }
   ],
   "source": [
    "CU.plot(x=\"index\",y=0)\n",
    "plt"
   ]
  }
 ],
 "metadata": {
  "kernelspec": {
   "display_name": "Python 3",
   "language": "python",
   "name": "python3"
  },
  "language_info": {
   "codemirror_mode": {
    "name": "ipython",
    "version": 3
   },
   "file_extension": ".py",
   "mimetype": "text/x-python",
   "name": "python",
   "nbconvert_exporter": "python",
   "pygments_lexer": "ipython3",
   "version": "3.7.6"
  }
 },
 "nbformat": 4,
 "nbformat_minor": 4
}
